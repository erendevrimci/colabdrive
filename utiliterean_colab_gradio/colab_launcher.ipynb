{
  "cells": [
    {
      "cell_type": "markdown",
      "metadata": {
        "id": "welcome"
      },
      "source": [
        "# 🚀 Utiliterean Colab Assistant\n",
        "This notebook will help you run the Utiliterean Colab Assistant in Google Colab."
      ]
    },
    {
      "cell_type": "code",
      "metadata": {
        "id": "install"
      },
      "source": [
        "# Install the package and dependencies\n",
        "!pip install git+https://github.com/YOUR_USERNAME/utiliterean_colab_gradio.git\n",
        "!pip install gradio\n",
        "!pip install google-auth-oauthlib"
      ],
      "execution_count": null,
      "outputs": []
    },
    {
      "cell_type": "code", 
      "metadata": {
        "id": "launch"
      },
      "source": [
        "# Import and run the application\n",
        "from utiliterean_colab_gradio.main import Main\n",
        "\n",
        "# Create and run the application\n",
        "app = Main()\n",
        "app.run()"
      ],
      "execution_count": null,
      "outputs": []
    }
  ],
  "metadata": {
    "colab": {
      "name": "Utiliterean Colab Assistant",
      "private_outputs": true,
      "provenance": [],
      "collapsed_sections": []
    },
    "kernelspec": {
      "name": "python3",
      "display_name": "Python 3"
    },
    "language_info": {
      "name": "python"
    },
    "accelerator": "GPU"
  },
  "nbformat": 4,
  "nbformat_minor": 0
}
