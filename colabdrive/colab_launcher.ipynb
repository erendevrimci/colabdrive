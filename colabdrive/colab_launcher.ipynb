{
 "cells": [
  {
   "cell_type": "markdown",
   "metadata": {
    "id": "welcome"
   },
   "source": [
    "# 🚀 Utiliterean Colab Assistant\n",
    "This notebook will help you run the Utiliterean Colab Assistant in Google Colab."
   ]
  },
  {
   "cell_type": "code",
   "execution_count": null,
   "metadata": {
    "id": "install"
   },
   "outputs": [],
   "source": [
    "# Install the package and dependencies\n",
    "!pip install git+https://github.com/erendevrimci/colab-gradio.git\n",
    "!pip install gradio\n",
    "!pip install google-auth-oauthlib"
   ]
  },
  {
   "cell_type": "code",
   "execution_count": null,
   "metadata": {
    "id": "launch"
   },
   "outputs": [],
   "source": [
    "# Import and run the application\n",
    "from utiliterean_colab_gradio.main import Main\n",
    "\n",
    "# Create and run the application\n",
    "app = Main()\n",
    "app.run()"
   ]
  }
 ],
 "metadata": {
  "accelerator": "GPU",
  "colab": {
   "collapsed_sections": [],
   "name": "Utiliterean Colab Assistant",
   "private_outputs": true,
   "provenance": []
  },
  "kernelspec": {
   "display_name": "Python 3",
   "name": "python3"
  },
  "language_info": {
   "name": "python"
  }
 },
 "nbformat": 4,
 "nbformat_minor": 0
}
